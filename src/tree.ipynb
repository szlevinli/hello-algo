{
 "cells": [
  {
   "cell_type": "markdown",
   "metadata": {},
   "source": [
    "# 树"
   ]
  },
  {
   "cell_type": "code",
   "execution_count": null,
   "metadata": {},
   "outputs": [],
   "source": [
    "from collections import deque\n",
    "from typing import Generator"
   ]
  },
  {
   "cell_type": "markdown",
   "metadata": {},
   "source": [
    "## 二叉树\n",
    "\n",
    "[二叉树 binary tree]是一种非线性数据结构."
   ]
  },
  {
   "cell_type": "code",
   "execution_count": null,
   "metadata": {},
   "outputs": [],
   "source": [
    "class TreeNode:\n",
    "    \"\"\"二叉树节点类\"\"\"\n",
    "\n",
    "    def __init__(self, val: int) -> None:\n",
    "        # 节点值\n",
    "        self.val = val\n",
    "        # 左子节点\n",
    "        self.left: TreeNode | None = None\n",
    "        # 右子节点\n",
    "        self.right: TreeNode | None = None\n",
    "\n",
    "    def __repr__(self) -> str:\n",
    "        return f\"TreeNode({self.val}, {repr(self.left)}, {repr(self.right)})\""
   ]
  },
  {
   "cell_type": "markdown",
   "metadata": {},
   "source": [
    "插入和删除节点操作.\n",
    "\n",
    "无论是插入还是删除节点, 都需要有三个指针分别对应:\n",
    "\n",
    "- p: 当前节点(待插入或待删除的节点)\n",
    "- n1: p节点的父节点\n",
    "- n2: n1节点的子节点(左节点或右节点)\n",
    "\n",
    "<img src=\"../imgs/binary_tree_add_remove.png\" width=\"50%\">"
   ]
  },
  {
   "cell_type": "markdown",
   "metadata": {},
   "source": [
    "## 二叉树遍历\n",
    "\n",
    "常见的二叉树遍历方式:\n",
    "\n",
    "- 广度优先搜索 breadth-first search, BFS\n",
    "  - 层序遍历 level-order traversal\n",
    "- 深度优先搜索 depth-first search, DFS\n",
    "  - 前序遍历\n",
    "  - 中序遍历\n",
    "  - 后续遍历"
   ]
  },
  {
   "cell_type": "markdown",
   "metadata": {},
   "source": [
    "### 层序遍历\n",
    "\n",
    "广度优先遍历通常借助\"队列\"来实现. 队列遵循\"先进先出\"的规则, 而广度优先遍历则遵循\"逐层推进\"的规则, 两者的背后的思想是一致的.\n",
    "\n",
    "<img src=\"../imgs/binary_tree_bfs.png\" width=\"50%\">"
   ]
  },
  {
   "cell_type": "code",
   "execution_count": null,
   "metadata": {},
   "outputs": [],
   "source": [
    "def level_order(root: TreeNode | None) -> list[int]:\n",
    "    \"\"\"层序遍历\"\"\"\n",
    "    # 初始化队列, 加入根节点\n",
    "    queue: deque[TreeNode] = deque([root])\n",
    "    # 初始化一个列表, 用于保存遍历序列\n",
    "    res: list[int] = []\n",
    "\n",
    "    # 当队列不为空\n",
    "    while queue:\n",
    "        # 出列\n",
    "        node: TreeNode = queue.popleft()\n",
    "        # 保存节点值\n",
    "        res.append(node.val)\n",
    "        # 左节点入队\n",
    "        if node.left is not None:\n",
    "            queue.append(node.left)\n",
    "        # 右节点入队\n",
    "        if node.right is not None:\n",
    "            queue.append(node.right)\n",
    "\n",
    "    return res\n",
    "\n",
    "\n",
    "def level_order_gen(root: TreeNode | None) -> Generator[int, None, None]:\n",
    "    \"\"\"层序遍历, 采用Generator方法\"\"\"\n",
    "    queue = deque([root])\n",
    "\n",
    "    # 当队列不为空\n",
    "    while queue:\n",
    "        node = queue.popleft()\n",
    "        if node is not None:\n",
    "            yield node.val\n",
    "            node.left and queue.append(node.left)\n",
    "            node.right and queue.append(node.right)\n",
    "\n",
    "\n",
    "def level_order_recursion(\n",
    "    queue: deque[TreeNode | None],\n",
    "    res: list[int] | None = None,\n",
    ") -> list[int]:\n",
    "    \"\"\"层序遍历, 采用递归方式\"\"\"\n",
    "    if res is None:\n",
    "        res = []\n",
    "    if not queue:\n",
    "        return res\n",
    "\n",
    "    node = queue.popleft()\n",
    "    if node is not None:\n",
    "        res.append(node.val)\n",
    "        node.left and queue.append(node.left)\n",
    "        node.right and queue.append(node.right)\n",
    "\n",
    "    return level_order_recursion(queue, res)"
   ]
  },
  {
   "cell_type": "code",
   "execution_count": null,
   "metadata": {},
   "outputs": [],
   "source": [
    "def create_tree_BFS(ary: list[int], i: int = 0) -> TreeNode | None:\n",
    "    \"\"\"帮助函数. 使用广度优先算法创建一个完全二叉树\"\"\"\n",
    "\n",
    "    if i >= len(ary) or ary[i] is None:\n",
    "        return None\n",
    "\n",
    "    node = TreeNode(ary[i])\n",
    "    node.left = create_tree_BFS(ary, 2 * i + 1)\n",
    "    node.right = create_tree_BFS(ary, 2 * i + 2)\n",
    "\n",
    "    return node"
   ]
  },
  {
   "cell_type": "code",
   "execution_count": null,
   "metadata": {},
   "outputs": [],
   "source": [
    "tree_node = create_tree_BFS([1, 2, 3, 4])\n",
    "tree_node"
   ]
  },
  {
   "cell_type": "code",
   "execution_count": null,
   "metadata": {},
   "outputs": [],
   "source": [
    "level_order(tree_node)"
   ]
  },
  {
   "cell_type": "code",
   "execution_count": null,
   "metadata": {},
   "outputs": [],
   "source": [
    "[i for i in level_order_gen(tree_node)]"
   ]
  },
  {
   "cell_type": "code",
   "execution_count": null,
   "metadata": {},
   "outputs": [],
   "source": [
    "level_order_recursion(deque([tree_node]))"
   ]
  }
 ],
 "metadata": {
  "kernelspec": {
   "display_name": "py312",
   "language": "python",
   "name": "python3"
  },
  "language_info": {
   "codemirror_mode": {
    "name": "ipython",
    "version": 3
   },
   "file_extension": ".py",
   "mimetype": "text/x-python",
   "name": "python",
   "nbconvert_exporter": "python",
   "pygments_lexer": "ipython3",
   "version": "3.12.2"
  }
 },
 "nbformat": 4,
 "nbformat_minor": 2
}
